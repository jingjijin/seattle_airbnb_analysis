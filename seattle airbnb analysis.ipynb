{
 "cells": [
  {
   "cell_type": "code",
   "execution_count": 1,
   "metadata": {},
   "outputs": [],
   "source": [
    "# import libraries\n",
    "\n",
    "import pandas as pd\n",
    "import numpy as np\n",
    "import seaborn as sns\n",
    "import matplotlib.pyplot as plt\n",
    "from sklearn.base import TransformerMixin\n",
    "% matplotlib inline"
   ]
  },
  {
   "cell_type": "code",
   "execution_count": 2,
   "metadata": {},
   "outputs": [],
   "source": [
    "listing = pd.read_csv('listings.csv')"
   ]
  },
  {
   "cell_type": "code",
   "execution_count": 3,
   "metadata": {},
   "outputs": [
    {
     "data": {
      "text/plain": [
       "Index(['id', 'listing_url', 'scrape_id', 'last_scraped', 'name', 'summary',\n",
       "       'space', 'description', 'experiences_offered', 'neighborhood_overview',\n",
       "       'notes', 'transit', 'thumbnail_url', 'medium_url', 'picture_url',\n",
       "       'xl_picture_url', 'host_id', 'host_url', 'host_name', 'host_since',\n",
       "       'host_location', 'host_about', 'host_response_time',\n",
       "       'host_response_rate', 'host_acceptance_rate', 'host_is_superhost',\n",
       "       'host_thumbnail_url', 'host_picture_url', 'host_neighbourhood',\n",
       "       'host_listings_count', 'host_total_listings_count',\n",
       "       'host_verifications', 'host_has_profile_pic', 'host_identity_verified',\n",
       "       'street', 'neighbourhood', 'neighbourhood_cleansed',\n",
       "       'neighbourhood_group_cleansed', 'city', 'state', 'zipcode', 'market',\n",
       "       'smart_location', 'country_code', 'country', 'latitude', 'longitude',\n",
       "       'is_location_exact', 'property_type', 'room_type', 'accommodates',\n",
       "       'bathrooms', 'bedrooms', 'beds', 'bed_type', 'amenities', 'square_feet',\n",
       "       'price', 'weekly_price', 'monthly_price', 'security_deposit',\n",
       "       'cleaning_fee', 'guests_included', 'extra_people', 'minimum_nights',\n",
       "       'maximum_nights', 'calendar_updated', 'has_availability',\n",
       "       'availability_30', 'availability_60', 'availability_90',\n",
       "       'availability_365', 'calendar_last_scraped', 'number_of_reviews',\n",
       "       'first_review', 'last_review', 'review_scores_rating',\n",
       "       'review_scores_accuracy', 'review_scores_cleanliness',\n",
       "       'review_scores_checkin', 'review_scores_communication',\n",
       "       'review_scores_location', 'review_scores_value', 'requires_license',\n",
       "       'license', 'jurisdiction_names', 'instant_bookable',\n",
       "       'cancellation_policy', 'require_guest_profile_picture',\n",
       "       'require_guest_phone_verification', 'calculated_host_listings_count',\n",
       "       'reviews_per_month'],\n",
       "      dtype='object')"
      ]
     },
     "execution_count": 3,
     "metadata": {},
     "output_type": "execute_result"
    }
   ],
   "source": [
    "listing.columns # see what features are in the dataset"
   ]
  },
  {
   "cell_type": "code",
   "execution_count": 4,
   "metadata": {},
   "outputs": [],
   "source": [
    "# For more concise analysis, only include features that are most relevant and interesting\n",
    "\n",
    "listing_less = listing[['host_response_time','host_response_rate', 'host_acceptance_rate','host_is_superhost',\n",
    "                        'host_total_listings_count','host_has_profile_pic', 'host_identity_verified','neighbourhood', \n",
    "                        'neighbourhood_cleansed','neighbourhood_group_cleansed', 'zipcode',\n",
    "                        'is_location_exact', 'property_type', 'room_type', 'accommodates','bathrooms', 'bedrooms', \n",
    "                        'beds', 'bed_type', 'amenities', 'square_feet','price', 'weekly_price', 'monthly_price', \n",
    "                        'security_deposit','cleaning_fee', 'guests_included', 'extra_people', 'minimum_nights',\n",
    "                        'maximum_nights','availability_30', 'availability_60', \n",
    "                        'availability_90','availability_365', 'number_of_reviews','review_scores_rating',\n",
    "                        'review_scores_accuracy', 'review_scores_cleanliness','review_scores_checkin', \n",
    "                        'review_scores_communication','review_scores_location', 'review_scores_value', \n",
    "                        'requires_license','instant_bookable','cancellation_policy', 'require_guest_profile_picture',\n",
    "                        'require_guest_phone_verification', 'calculated_host_listings_count','reviews_per_month']].copy()"
   ]
  },
  {
   "cell_type": "code",
   "execution_count": 5,
   "metadata": {
    "scrolled": true
   },
   "outputs": [
    {
     "data": {
      "text/html": [
       "<div>\n",
       "<style scoped>\n",
       "    .dataframe tbody tr th:only-of-type {\n",
       "        vertical-align: middle;\n",
       "    }\n",
       "\n",
       "    .dataframe tbody tr th {\n",
       "        vertical-align: top;\n",
       "    }\n",
       "\n",
       "    .dataframe thead th {\n",
       "        text-align: right;\n",
       "    }\n",
       "</style>\n",
       "<table border=\"1\" class=\"dataframe\">\n",
       "  <thead>\n",
       "    <tr style=\"text-align: right;\">\n",
       "      <th></th>\n",
       "      <th>index</th>\n",
       "      <th>datatype</th>\n",
       "      <th>0</th>\n",
       "    </tr>\n",
       "  </thead>\n",
       "  <tbody>\n",
       "    <tr>\n",
       "      <th>0</th>\n",
       "      <td>host_response_time</td>\n",
       "      <td>object</td>\n",
       "      <td>within a few hours</td>\n",
       "    </tr>\n",
       "    <tr>\n",
       "      <th>1</th>\n",
       "      <td>host_response_rate</td>\n",
       "      <td>object</td>\n",
       "      <td>96%</td>\n",
       "    </tr>\n",
       "    <tr>\n",
       "      <th>2</th>\n",
       "      <td>host_acceptance_rate</td>\n",
       "      <td>object</td>\n",
       "      <td>100%</td>\n",
       "    </tr>\n",
       "    <tr>\n",
       "      <th>3</th>\n",
       "      <td>host_is_superhost</td>\n",
       "      <td>object</td>\n",
       "      <td>f</td>\n",
       "    </tr>\n",
       "    <tr>\n",
       "      <th>4</th>\n",
       "      <td>host_total_listings_count</td>\n",
       "      <td>float64</td>\n",
       "      <td>3</td>\n",
       "    </tr>\n",
       "    <tr>\n",
       "      <th>5</th>\n",
       "      <td>host_has_profile_pic</td>\n",
       "      <td>object</td>\n",
       "      <td>t</td>\n",
       "    </tr>\n",
       "    <tr>\n",
       "      <th>6</th>\n",
       "      <td>host_identity_verified</td>\n",
       "      <td>object</td>\n",
       "      <td>t</td>\n",
       "    </tr>\n",
       "    <tr>\n",
       "      <th>7</th>\n",
       "      <td>neighbourhood</td>\n",
       "      <td>object</td>\n",
       "      <td>Queen Anne</td>\n",
       "    </tr>\n",
       "    <tr>\n",
       "      <th>8</th>\n",
       "      <td>neighbourhood_cleansed</td>\n",
       "      <td>object</td>\n",
       "      <td>West Queen Anne</td>\n",
       "    </tr>\n",
       "    <tr>\n",
       "      <th>9</th>\n",
       "      <td>neighbourhood_group_cleansed</td>\n",
       "      <td>object</td>\n",
       "      <td>Queen Anne</td>\n",
       "    </tr>\n",
       "    <tr>\n",
       "      <th>10</th>\n",
       "      <td>zipcode</td>\n",
       "      <td>object</td>\n",
       "      <td>98119</td>\n",
       "    </tr>\n",
       "    <tr>\n",
       "      <th>11</th>\n",
       "      <td>is_location_exact</td>\n",
       "      <td>object</td>\n",
       "      <td>t</td>\n",
       "    </tr>\n",
       "    <tr>\n",
       "      <th>12</th>\n",
       "      <td>property_type</td>\n",
       "      <td>object</td>\n",
       "      <td>Apartment</td>\n",
       "    </tr>\n",
       "    <tr>\n",
       "      <th>13</th>\n",
       "      <td>room_type</td>\n",
       "      <td>object</td>\n",
       "      <td>Entire home/apt</td>\n",
       "    </tr>\n",
       "    <tr>\n",
       "      <th>14</th>\n",
       "      <td>accommodates</td>\n",
       "      <td>int64</td>\n",
       "      <td>4</td>\n",
       "    </tr>\n",
       "    <tr>\n",
       "      <th>15</th>\n",
       "      <td>bathrooms</td>\n",
       "      <td>float64</td>\n",
       "      <td>1</td>\n",
       "    </tr>\n",
       "    <tr>\n",
       "      <th>16</th>\n",
       "      <td>bedrooms</td>\n",
       "      <td>float64</td>\n",
       "      <td>1</td>\n",
       "    </tr>\n",
       "    <tr>\n",
       "      <th>17</th>\n",
       "      <td>beds</td>\n",
       "      <td>float64</td>\n",
       "      <td>1</td>\n",
       "    </tr>\n",
       "    <tr>\n",
       "      <th>18</th>\n",
       "      <td>bed_type</td>\n",
       "      <td>object</td>\n",
       "      <td>Real Bed</td>\n",
       "    </tr>\n",
       "    <tr>\n",
       "      <th>19</th>\n",
       "      <td>amenities</td>\n",
       "      <td>object</td>\n",
       "      <td>{TV,\"Cable TV\",Internet,\"Wireless Internet\",\"A...</td>\n",
       "    </tr>\n",
       "    <tr>\n",
       "      <th>20</th>\n",
       "      <td>square_feet</td>\n",
       "      <td>float64</td>\n",
       "      <td>NaN</td>\n",
       "    </tr>\n",
       "    <tr>\n",
       "      <th>21</th>\n",
       "      <td>price</td>\n",
       "      <td>object</td>\n",
       "      <td>$85.00</td>\n",
       "    </tr>\n",
       "    <tr>\n",
       "      <th>22</th>\n",
       "      <td>weekly_price</td>\n",
       "      <td>object</td>\n",
       "      <td>NaN</td>\n",
       "    </tr>\n",
       "    <tr>\n",
       "      <th>23</th>\n",
       "      <td>monthly_price</td>\n",
       "      <td>object</td>\n",
       "      <td>NaN</td>\n",
       "    </tr>\n",
       "    <tr>\n",
       "      <th>24</th>\n",
       "      <td>security_deposit</td>\n",
       "      <td>object</td>\n",
       "      <td>NaN</td>\n",
       "    </tr>\n",
       "    <tr>\n",
       "      <th>25</th>\n",
       "      <td>cleaning_fee</td>\n",
       "      <td>object</td>\n",
       "      <td>NaN</td>\n",
       "    </tr>\n",
       "    <tr>\n",
       "      <th>26</th>\n",
       "      <td>guests_included</td>\n",
       "      <td>int64</td>\n",
       "      <td>2</td>\n",
       "    </tr>\n",
       "    <tr>\n",
       "      <th>27</th>\n",
       "      <td>extra_people</td>\n",
       "      <td>object</td>\n",
       "      <td>$5.00</td>\n",
       "    </tr>\n",
       "    <tr>\n",
       "      <th>28</th>\n",
       "      <td>minimum_nights</td>\n",
       "      <td>int64</td>\n",
       "      <td>1</td>\n",
       "    </tr>\n",
       "    <tr>\n",
       "      <th>29</th>\n",
       "      <td>maximum_nights</td>\n",
       "      <td>int64</td>\n",
       "      <td>365</td>\n",
       "    </tr>\n",
       "    <tr>\n",
       "      <th>30</th>\n",
       "      <td>availability_30</td>\n",
       "      <td>int64</td>\n",
       "      <td>14</td>\n",
       "    </tr>\n",
       "    <tr>\n",
       "      <th>31</th>\n",
       "      <td>availability_60</td>\n",
       "      <td>int64</td>\n",
       "      <td>41</td>\n",
       "    </tr>\n",
       "    <tr>\n",
       "      <th>32</th>\n",
       "      <td>availability_90</td>\n",
       "      <td>int64</td>\n",
       "      <td>71</td>\n",
       "    </tr>\n",
       "    <tr>\n",
       "      <th>33</th>\n",
       "      <td>availability_365</td>\n",
       "      <td>int64</td>\n",
       "      <td>346</td>\n",
       "    </tr>\n",
       "    <tr>\n",
       "      <th>34</th>\n",
       "      <td>number_of_reviews</td>\n",
       "      <td>int64</td>\n",
       "      <td>207</td>\n",
       "    </tr>\n",
       "    <tr>\n",
       "      <th>35</th>\n",
       "      <td>review_scores_rating</td>\n",
       "      <td>float64</td>\n",
       "      <td>95</td>\n",
       "    </tr>\n",
       "    <tr>\n",
       "      <th>36</th>\n",
       "      <td>review_scores_accuracy</td>\n",
       "      <td>float64</td>\n",
       "      <td>10</td>\n",
       "    </tr>\n",
       "    <tr>\n",
       "      <th>37</th>\n",
       "      <td>review_scores_cleanliness</td>\n",
       "      <td>float64</td>\n",
       "      <td>10</td>\n",
       "    </tr>\n",
       "    <tr>\n",
       "      <th>38</th>\n",
       "      <td>review_scores_checkin</td>\n",
       "      <td>float64</td>\n",
       "      <td>10</td>\n",
       "    </tr>\n",
       "    <tr>\n",
       "      <th>39</th>\n",
       "      <td>review_scores_communication</td>\n",
       "      <td>float64</td>\n",
       "      <td>10</td>\n",
       "    </tr>\n",
       "    <tr>\n",
       "      <th>40</th>\n",
       "      <td>review_scores_location</td>\n",
       "      <td>float64</td>\n",
       "      <td>9</td>\n",
       "    </tr>\n",
       "    <tr>\n",
       "      <th>41</th>\n",
       "      <td>review_scores_value</td>\n",
       "      <td>float64</td>\n",
       "      <td>10</td>\n",
       "    </tr>\n",
       "    <tr>\n",
       "      <th>42</th>\n",
       "      <td>requires_license</td>\n",
       "      <td>object</td>\n",
       "      <td>f</td>\n",
       "    </tr>\n",
       "    <tr>\n",
       "      <th>43</th>\n",
       "      <td>instant_bookable</td>\n",
       "      <td>object</td>\n",
       "      <td>f</td>\n",
       "    </tr>\n",
       "    <tr>\n",
       "      <th>44</th>\n",
       "      <td>cancellation_policy</td>\n",
       "      <td>object</td>\n",
       "      <td>moderate</td>\n",
       "    </tr>\n",
       "    <tr>\n",
       "      <th>45</th>\n",
       "      <td>require_guest_profile_picture</td>\n",
       "      <td>object</td>\n",
       "      <td>f</td>\n",
       "    </tr>\n",
       "    <tr>\n",
       "      <th>46</th>\n",
       "      <td>require_guest_phone_verification</td>\n",
       "      <td>object</td>\n",
       "      <td>f</td>\n",
       "    </tr>\n",
       "    <tr>\n",
       "      <th>47</th>\n",
       "      <td>calculated_host_listings_count</td>\n",
       "      <td>int64</td>\n",
       "      <td>2</td>\n",
       "    </tr>\n",
       "    <tr>\n",
       "      <th>48</th>\n",
       "      <td>reviews_per_month</td>\n",
       "      <td>float64</td>\n",
       "      <td>4.07</td>\n",
       "    </tr>\n",
       "  </tbody>\n",
       "</table>\n",
       "</div>"
      ],
      "text/plain": [
       "                               index datatype  \\\n",
       "0                 host_response_time   object   \n",
       "1                 host_response_rate   object   \n",
       "2               host_acceptance_rate   object   \n",
       "3                  host_is_superhost   object   \n",
       "4          host_total_listings_count  float64   \n",
       "5               host_has_profile_pic   object   \n",
       "6             host_identity_verified   object   \n",
       "7                      neighbourhood   object   \n",
       "8             neighbourhood_cleansed   object   \n",
       "9       neighbourhood_group_cleansed   object   \n",
       "10                           zipcode   object   \n",
       "11                 is_location_exact   object   \n",
       "12                     property_type   object   \n",
       "13                         room_type   object   \n",
       "14                      accommodates    int64   \n",
       "15                         bathrooms  float64   \n",
       "16                          bedrooms  float64   \n",
       "17                              beds  float64   \n",
       "18                          bed_type   object   \n",
       "19                         amenities   object   \n",
       "20                       square_feet  float64   \n",
       "21                             price   object   \n",
       "22                      weekly_price   object   \n",
       "23                     monthly_price   object   \n",
       "24                  security_deposit   object   \n",
       "25                      cleaning_fee   object   \n",
       "26                   guests_included    int64   \n",
       "27                      extra_people   object   \n",
       "28                    minimum_nights    int64   \n",
       "29                    maximum_nights    int64   \n",
       "30                   availability_30    int64   \n",
       "31                   availability_60    int64   \n",
       "32                   availability_90    int64   \n",
       "33                  availability_365    int64   \n",
       "34                 number_of_reviews    int64   \n",
       "35              review_scores_rating  float64   \n",
       "36            review_scores_accuracy  float64   \n",
       "37         review_scores_cleanliness  float64   \n",
       "38             review_scores_checkin  float64   \n",
       "39       review_scores_communication  float64   \n",
       "40            review_scores_location  float64   \n",
       "41               review_scores_value  float64   \n",
       "42                  requires_license   object   \n",
       "43                  instant_bookable   object   \n",
       "44               cancellation_policy   object   \n",
       "45     require_guest_profile_picture   object   \n",
       "46  require_guest_phone_verification   object   \n",
       "47    calculated_host_listings_count    int64   \n",
       "48                 reviews_per_month  float64   \n",
       "\n",
       "                                                    0  \n",
       "0                                  within a few hours  \n",
       "1                                                 96%  \n",
       "2                                                100%  \n",
       "3                                                   f  \n",
       "4                                                   3  \n",
       "5                                                   t  \n",
       "6                                                   t  \n",
       "7                                          Queen Anne  \n",
       "8                                     West Queen Anne  \n",
       "9                                          Queen Anne  \n",
       "10                                              98119  \n",
       "11                                                  t  \n",
       "12                                          Apartment  \n",
       "13                                    Entire home/apt  \n",
       "14                                                  4  \n",
       "15                                                  1  \n",
       "16                                                  1  \n",
       "17                                                  1  \n",
       "18                                           Real Bed  \n",
       "19  {TV,\"Cable TV\",Internet,\"Wireless Internet\",\"A...  \n",
       "20                                                NaN  \n",
       "21                                             $85.00  \n",
       "22                                                NaN  \n",
       "23                                                NaN  \n",
       "24                                                NaN  \n",
       "25                                                NaN  \n",
       "26                                                  2  \n",
       "27                                              $5.00  \n",
       "28                                                  1  \n",
       "29                                                365  \n",
       "30                                                 14  \n",
       "31                                                 41  \n",
       "32                                                 71  \n",
       "33                                                346  \n",
       "34                                                207  \n",
       "35                                                 95  \n",
       "36                                                 10  \n",
       "37                                                 10  \n",
       "38                                                 10  \n",
       "39                                                 10  \n",
       "40                                                  9  \n",
       "41                                                 10  \n",
       "42                                                  f  \n",
       "43                                                  f  \n",
       "44                                           moderate  \n",
       "45                                                  f  \n",
       "46                                                  f  \n",
       "47                                                  2  \n",
       "48                                               4.07  "
      ]
     },
     "execution_count": 5,
     "metadata": {},
     "output_type": "execute_result"
    }
   ],
   "source": [
    "# check the dtypes of features\n",
    "pd.merge(pd.DataFrame(listing_less.dtypes,columns=['datatype']).reset_index(),\n",
    "         pd.DataFrame(pd.DataFrame(listing_less.iloc[0]).reset_index()),on='index')"
   ]
  },
  {
   "cell_type": "code",
   "execution_count": 6,
   "metadata": {},
   "outputs": [
    {
     "data": {
      "text/plain": [
       "array(['98119', '98109', '98107', '98117', nan, '98103', '98105', '98115',\n",
       "       '98101', '98122', '98112', '98144', '99\\n98122', '98121', '98102',\n",
       "       '98199', '98104', '98134', '98136', '98126', '98146', '98116',\n",
       "       '98177', '98118', '98108', '98133', '98106', '98178', '98125'],\n",
       "      dtype=object)"
      ]
     },
     "execution_count": 6,
     "metadata": {},
     "output_type": "execute_result"
    }
   ],
   "source": [
    "listing_less.zipcode.unique() # check unique zipcode"
   ]
  },
  {
   "cell_type": "code",
   "execution_count": 7,
   "metadata": {},
   "outputs": [],
   "source": [
    "listing_less.zipcode.replace('99\\n98122','98122',inplace=True) # fix an encoding error"
   ]
  },
  {
   "cell_type": "code",
   "execution_count": 8,
   "metadata": {},
   "outputs": [],
   "source": [
    "# convert/transform strings to numeric\n",
    "\n",
    "listing_less.price = listing_less.price.apply(lambda x: x if x is np.NAN else float(x[1:].replace(',','')))\n",
    "listing_less.weekly_price = listing_less.weekly_price.apply(lambda x: x if x is np.NAN else float(x[1:].replace(',','')))\n",
    "listing_less.monthly_price = listing_less.monthly_price.apply(lambda x: x if x is np.NAN else float(x[1:].replace(',','')))\n",
    "listing_less.security_deposit = listing_less.security_deposit.apply(lambda x: x if x is np.NAN else float(x[1:].replace(',','')))\n",
    "listing_less.host_response_rate = listing_less.host_response_rate.apply(lambda x: x if x is np.NAN else float(x[:-1]))\n",
    "listing_less.host_acceptance_rate = listing_less.host_acceptance_rate.apply(lambda x: x if x is np.NAN else float(x[:-1]))\n",
    "listing_less.cleaning_fee = listing_less.cleaning_fee.apply(lambda x: x if x is np.NAN else float(x[1:]))\n",
    "listing_less.extra_people = listing_less.extra_people.apply(lambda x: x if x is np.NAN else float(x[1:]))"
   ]
  },
  {
   "cell_type": "code",
   "execution_count": 9,
   "metadata": {
    "scrolled": true
   },
   "outputs": [
    {
     "data": {
      "text/plain": [
       "number_of_reviews                   0.000000\n",
       "require_guest_profile_picture       0.000000\n",
       "amenities                           0.000000\n",
       "bed_type                            0.000000\n",
       "availability_365                    0.000000\n",
       "instant_bookable                    0.000000\n",
       "calculated_host_listings_count      0.000000\n",
       "accommodates                        0.000000\n",
       "room_type                           0.000000\n",
       "requires_license                    0.000000\n",
       "price                               0.000000\n",
       "is_location_exact                   0.000000\n",
       "neighbourhood_group_cleansed        0.000000\n",
       "neighbourhood_cleansed              0.000000\n",
       "extra_people                        0.000000\n",
       "minimum_nights                      0.000000\n",
       "maximum_nights                      0.000000\n",
       "availability_30                     0.000000\n",
       "availability_60                     0.000000\n",
       "require_guest_phone_verification    0.000000\n",
       "availability_90                     0.000000\n",
       "guests_included                     0.000000\n",
       "cancellation_policy                 0.000000\n",
       "beds                                0.000262\n",
       "property_type                       0.000262\n",
       "host_identity_verified              0.000524\n",
       "host_has_profile_pic                0.000524\n",
       "host_total_listings_count           0.000524\n",
       "host_is_superhost                   0.000524\n",
       "bedrooms                            0.001572\n",
       "zipcode                             0.001833\n",
       "bathrooms                           0.004191\n",
       "neighbourhood                       0.108958\n",
       "host_response_rate                  0.136983\n",
       "host_response_time                  0.136983\n",
       "reviews_per_month                   0.164222\n",
       "review_scores_rating                0.169460\n",
       "review_scores_communication         0.170508\n",
       "review_scores_cleanliness           0.171032\n",
       "review_scores_location              0.171556\n",
       "review_scores_value                 0.171818\n",
       "review_scores_accuracy              0.172342\n",
       "review_scores_checkin               0.172342\n",
       "host_acceptance_rate                0.202462\n",
       "cleaning_fee                        0.269775\n",
       "weekly_price                        0.473808\n",
       "security_deposit                    0.511262\n",
       "monthly_price                       0.602672\n",
       "square_feet                         0.974594\n",
       "dtype: float64"
      ]
     },
     "execution_count": 9,
     "metadata": {},
     "output_type": "execute_result"
    }
   ],
   "source": [
    "# see percentage of missing values in each feature column.\n",
    "listing_less.isnull().mean().sort_values()"
   ]
  },
  {
   "cell_type": "code",
   "execution_count": 10,
   "metadata": {},
   "outputs": [],
   "source": [
    "# drop features with more than 40% missing values.\n",
    "listing_less = listing_less.drop(['weekly_price','security_deposit','monthly_price','square_feet'],axis=1)"
   ]
  },
  {
   "cell_type": "code",
   "execution_count": 11,
   "metadata": {},
   "outputs": [],
   "source": [
    "# Imputation on columns with less than 40% missing values.\n",
    "# Code modified from https://stackoverflow.com/questions/25239958/impute-categorical-missing-values-in-scikit-learn\n",
    "# Basically, categorical variables imputed with most frequent value and numerical variables imputed with mean.\n",
    "\n",
    "class DataFrameImputer(TransformerMixin):\n",
    "    def __init__(self):\n",
    "        pass\n",
    "    \n",
    "    def fit(self, X, y=None):\n",
    "        self.fill = pd.Series([X[c].value_counts().index[0]\n",
    "            if X[c].dtype == np.dtype('O') else X[c].mean() for c in X], index=X.columns)\n",
    "        return self\n",
    "\n",
    "    def transform(self, X, y=None):\n",
    "        return X.fillna(self.fill)"
   ]
  },
  {
   "cell_type": "code",
   "execution_count": 12,
   "metadata": {},
   "outputs": [],
   "source": [
    "# impute values using function above\n",
    "\n",
    "df = DataFrameImputer().fit_transform(listing_less)\n",
    "df2 = df.copy()"
   ]
  },
  {
   "cell_type": "code",
   "execution_count": 13,
   "metadata": {},
   "outputs": [],
   "source": [
    "# get dummy variables for categorical features\n",
    "\n",
    "df2 = pd.get_dummies(df2, columns=['neighbourhood','neighbourhood_cleansed',\n",
    "                             'neighbourhood_group_cleansed','zipcode','is_location_exact',\n",
    "                             'property_type','room_type','bed_type',\n",
    "                             'host_is_superhost','host_has_profile_pic','host_identity_verified',\n",
    "                             'is_location_exact','requires_license','instant_bookable',\n",
    "                             'require_guest_profile_picture','require_guest_phone_verification'])"
   ]
  },
  {
   "cell_type": "code",
   "execution_count": 14,
   "metadata": {},
   "outputs": [
    {
     "name": "stdout",
     "output_type": "stream",
     "text": [
      "['within a few hours' 'within an hour' 'within a day' 'a few days or more']\n",
      "['moderate' 'strict' 'flexible']\n"
     ]
    }
   ],
   "source": [
    "print(df2.host_response_time.unique())\n",
    "print(df2.cancellation_policy.unique())"
   ]
  },
  {
   "cell_type": "code",
   "execution_count": 15,
   "metadata": {
    "scrolled": true
   },
   "outputs": [],
   "source": [
    "# transform ordinal categorical features\n",
    "\n",
    "mapper1 = {'within an hour':0, 'within a few hours':1, 'within a day':2, 'a few days or more':3}\n",
    "df2['host_response_time'] = df2['host_response_time'].replace(mapper1)\n",
    "df2['host_response_time'] = pd.factorize(df2['host_response_time'])[0]\n",
    "\n",
    "mapper2 = {'flexible':0, 'moderate':1, 'strict':2}\n",
    "df2['cancellation_policy'] = df2['cancellation_policy'].replace(mapper2)\n",
    "df2['cancellation_policy'] = pd.factorize(df2['cancellation_policy'])[0]"
   ]
  },
  {
   "cell_type": "code",
   "execution_count": 16,
   "metadata": {
    "scrolled": true
   },
   "outputs": [
    {
     "data": {
      "text/plain": [
       "(3818, 283)"
      ]
     },
     "execution_count": 16,
     "metadata": {},
     "output_type": "execute_result"
    }
   ],
   "source": [
    "df2.shape"
   ]
  },
  {
   "cell_type": "markdown",
   "metadata": {},
   "source": [
    "Next, I will run a random forest regressor to see what features are important for popularity of the house/apt in Seattle. Here I will use reviews per month, instead of total number of reviews, as an indicator of popularity, since the number of reviews is heavily dependent on how long the hosts have been renting the house/apt. Therefore, in order not to be biased by this factor, I will use the reviews per month as target."
   ]
  },
  {
   "cell_type": "code",
   "execution_count": 17,
   "metadata": {},
   "outputs": [],
   "source": [
    "X = df2.drop(['reviews_per_month','amenities'],axis=1) # amenities will be analyzed later\n",
    "y = df2['reviews_per_month']"
   ]
  },
  {
   "cell_type": "code",
   "execution_count": 18,
   "metadata": {},
   "outputs": [],
   "source": [
    "from sklearn.ensemble import RandomForestRegressor\n",
    "from sklearn.grid_search import GridSearchCV\n",
    "\n",
    "rf = RandomForestRegressor(random_state=0)\n",
    "parameters = {'n_estimators': [300, 400, 500],\n",
    "               'max_depth': [20, 30, 40],\n",
    "               'min_samples_split': [2, 3],\n",
    "               'min_samples_leaf': [1, 2]}\n",
    "\n",
    "grid = GridSearchCV(estimator = rf, param_grid = parameters, cv = 5)"
   ]
  },
  {
   "cell_type": "code",
   "execution_count": 19,
   "metadata": {},
   "outputs": [
    {
     "data": {
      "text/plain": [
       "GridSearchCV(cv=5, error_score='raise',\n",
       "       estimator=RandomForestRegressor(bootstrap=True, criterion='mse', max_depth=None,\n",
       "           max_features='auto', max_leaf_nodes=None,\n",
       "           min_impurity_decrease=0.0, min_impurity_split=None,\n",
       "           min_samples_leaf=1, min_samples_split=2,\n",
       "           min_weight_fraction_leaf=0.0, n_estimators=10, n_jobs=1,\n",
       "           oob_score=False, random_state=0, verbose=0, warm_start=False),\n",
       "       fit_params={}, iid=True, n_jobs=1,\n",
       "       param_grid={'n_estimators': [300, 400, 500], 'max_depth': [20, 30, 40], 'min_samples_split': [2, 3], 'min_samples_leaf': [1, 2]},\n",
       "       pre_dispatch='2*n_jobs', refit=True, scoring=None, verbose=0)"
      ]
     },
     "execution_count": 19,
     "metadata": {},
     "output_type": "execute_result"
    }
   ],
   "source": [
    "grid.fit(X, y)"
   ]
  },
  {
   "cell_type": "code",
   "execution_count": 20,
   "metadata": {},
   "outputs": [
    {
     "data": {
      "text/plain": [
       "{'max_depth': 20,\n",
       " 'min_samples_leaf': 1,\n",
       " 'min_samples_split': 2,\n",
       " 'n_estimators': 300}"
      ]
     },
     "execution_count": 20,
     "metadata": {},
     "output_type": "execute_result"
    }
   ],
   "source": [
    "grid.best_params_"
   ]
  },
  {
   "cell_type": "code",
   "execution_count": 21,
   "metadata": {},
   "outputs": [
    {
     "data": {
      "text/html": [
       "<div>\n",
       "<style scoped>\n",
       "    .dataframe tbody tr th:only-of-type {\n",
       "        vertical-align: middle;\n",
       "    }\n",
       "\n",
       "    .dataframe tbody tr th {\n",
       "        vertical-align: top;\n",
       "    }\n",
       "\n",
       "    .dataframe thead th {\n",
       "        text-align: right;\n",
       "    }\n",
       "</style>\n",
       "<table border=\"1\" class=\"dataframe\">\n",
       "  <thead>\n",
       "    <tr style=\"text-align: right;\">\n",
       "      <th></th>\n",
       "      <th>feature</th>\n",
       "      <th>importance</th>\n",
       "    </tr>\n",
       "  </thead>\n",
       "  <tbody>\n",
       "    <tr>\n",
       "      <th>18</th>\n",
       "      <td>number_of_reviews</td>\n",
       "      <td>0.443251</td>\n",
       "    </tr>\n",
       "    <tr>\n",
       "      <th>12</th>\n",
       "      <td>minimum_nights</td>\n",
       "      <td>0.065653</td>\n",
       "    </tr>\n",
       "    <tr>\n",
       "      <th>9</th>\n",
       "      <td>cleaning_fee</td>\n",
       "      <td>0.0334445</td>\n",
       "    </tr>\n",
       "    <tr>\n",
       "      <th>14</th>\n",
       "      <td>availability_30</td>\n",
       "      <td>0.0327587</td>\n",
       "    </tr>\n",
       "    <tr>\n",
       "      <th>8</th>\n",
       "      <td>price</td>\n",
       "      <td>0.0304142</td>\n",
       "    </tr>\n",
       "  </tbody>\n",
       "</table>\n",
       "</div>"
      ],
      "text/plain": [
       "              feature importance\n",
       "18  number_of_reviews   0.443251\n",
       "12     minimum_nights   0.065653\n",
       "9        cleaning_fee  0.0334445\n",
       "14    availability_30  0.0327587\n",
       "8               price  0.0304142"
      ]
     },
     "execution_count": 21,
     "metadata": {},
     "output_type": "execute_result"
    }
   ],
   "source": [
    "# see 5 most important features that contribute to number of reviews per month\n",
    "\n",
    "importance_t = pd.DataFrame(data=[X.columns,grid.best_estimator_.feature_importances_]).T\n",
    "importance_t.columns = ['feature','importance']\n",
    "importance_t.sort_values(by='importance',ascending=False)[:5]"
   ]
  },
  {
   "cell_type": "markdown",
   "metadata": {},
   "source": [
    "Apparently, house/apt with more monthly reviews have more total reviews! Besides, we can see that price is an important factor for popularity (which is again not very surprising). For most of the properties, cleaning fee is  included in the price, so the higher the cleaning fee, the higher the price. Therefore, it makes sense both the price and cleaning fee are on top 5 list. 30 day-availability also play a key role in popularity. We will check out these features using some graphs below!"
   ]
  },
  {
   "cell_type": "code",
   "execution_count": 14,
   "metadata": {},
   "outputs": [
    {
     "name": "stdout",
     "output_type": "stream",
     "text": [
      "Average review rating: 94.53926206244176\n"
     ]
    },
    {
     "data": {
      "image/png": "[encoded data removed]",
      "text/plain": [
       "<Figure size 432x288 with 1 Axes>"
      ]
     },
     "metadata": {
      "needs_background": "light"
     },
     "output_type": "display_data"
    }
   ],
   "source": [
    "# Let's first see the distrinution of the overall ratings.\n",
    "\n",
    "df.review_scores_rating.hist(bins=30,color='red');\n",
    "print('Average review rating:', df.review_scores_rating.mean())"
   ]
  },
  {
   "cell_type": "code",
   "execution_count": 15,
   "metadata": {},
   "outputs": [
    {
     "data": {
      "image/png": "[encoded data removed]",
      "text/plain": [
       "<Figure size 432x288 with 1 Axes>"
      ]
     },
     "metadata": {
      "needs_background": "light"
     },
     "output_type": "display_data"
    }
   ],
   "source": [
    "# Relationship between rating and the number of reviews\n",
    "\n",
    "plt.scatter(x=df.review_scores_rating,y=df.number_of_reviews,c='orange')\n",
    "plt.xlabel('Review scores')\n",
    "plt.ylabel('Number of reviews');"
   ]
  },
  {
   "cell_type": "markdown",
   "metadata": {},
   "source": [
    "Let's go back to the first step that I decided to use number of reviews per month as the indicator for popularity instead of total sales (which we do not have info about) or overall rating. Here is a brief explanation of why I did not use the rating score as the target for my random forest regressor. As we can see from the rating distribution as well as average score (94.5) above, the rating itself is not a very good indication of popularity/satisfaction for the house/apt because people tend to be very generous about the ratings they gave. Therefore, I came up with a new indicator of the popularity, which is the number of reviews received each month. If we assume most people leave good ratings along with written reviews (as we see from the rating distribution), it is reasonable to believe that properties with lots of reviews are the ones that are nice and popular. "
   ]
  },
  {
   "cell_type": "code",
   "execution_count": 32,
   "metadata": {},
   "outputs": [
    {
     "data": {
      "image/png": "[encoded data removed]",
      "text/plain": [
       "<Figure size 432x288 with 1 Axes>"
      ]
     },
     "metadata": {
      "needs_background": "light"
     },
     "output_type": "display_data"
    }
   ],
   "source": [
    "df['reviews_per_month'].hist(bins=30)\n",
    "plt.title('Distribution of No. of reviews/month');"
   ]
  },
  {
   "cell_type": "markdown",
   "metadata": {},
   "source": [
    "It looks like monthly review is distributed between 0 and 12, with a great number of properties having about 2 reviews per month.\n",
    "\n",
    "In order to simplify visualization of the relationship between popularity and other features, I will divide all \n",
    "properties into 3 groups according to their popularity (reviews per month). The division will be made based on \n",
    "percentiles, therefore there will be equal (or very similar if not) number of properties in each groups. "
   ]
  },
  {
   "cell_type": "code",
   "execution_count": 17,
   "metadata": {},
   "outputs": [],
   "source": [
    "# the properties were divided into 3 groups based on their popularity (reviews they got per month)\n",
    "\n",
    "df['popularity'] = pd.qcut(df['reviews_per_month'],3,labels=['low','medium','high'])"
   ]
  },
  {
   "cell_type": "code",
   "execution_count": 24,
   "metadata": {},
   "outputs": [
    {
     "data": {
      "image/png": "[encoded data removed]",
      "text/plain": [
       "<Figure size 432x288 with 1 Axes>"
      ]
     },
     "metadata": {
      "needs_background": "light"
     },
     "output_type": "display_data"
    }
   ],
   "source": [
    "sns.countplot(df['popularity'],palette='coolwarm') # see how many house/apt fall in each group\n",
    "plt.title('Popularity counts');"
   ]
  },
  {
   "cell_type": "markdown",
   "metadata": {},
   "source": [
    "Now we have three popularity groups. Next, let's look at one of the important feature we discovered from random forest feature importance analysis - minimum nights required for stay."
   ]
  },
  {
   "cell_type": "code",
   "execution_count": 25,
   "metadata": {},
   "outputs": [
    {
     "data": {
      "image/png": "[encoded data removed]",
      "text/plain": [
       "<Figure size 432x288 with 1 Axes>"
      ]
     },
     "metadata": {
      "needs_background": "light"
     },
     "output_type": "display_data"
    }
   ],
   "source": [
    "sns.barplot(x=df.popularity,y=df.minimum_nights,palette='coolwarm') # see average apt/house price in each group\n",
    "plt.title('Miniumn nights');"
   ]
  },
  {
   "cell_type": "markdown",
   "metadata": {},
   "source": [
    "The ones with lowest popularity require longest minimum stay (with a huge error bar though), suggesting that people\n",
    "prefer flexible policy on their stay.\n",
    "\n",
    "Next, let's see the price for each popularity type."
   ]
  },
  {
   "cell_type": "code",
   "execution_count": 26,
   "metadata": {},
   "outputs": [
    {
     "data": {
      "image/png": "[encoded data removed]",
      "text/plain": [
       "<Figure size 432x288 with 1 Axes>"
      ]
     },
     "metadata": {
      "needs_background": "light"
     },
     "output_type": "display_data"
    }
   ],
   "source": [
    "sns.barplot(x=df.popularity,y=df.cleaning_fee,palette='coolwarm') # see cleaning fee in each group\n",
    "plt.title('Cleaning fee');"
   ]
  },
  {
   "cell_type": "code",
   "execution_count": 27,
   "metadata": {},
   "outputs": [
    {
     "data": {
      "image/png": "[encoded data removed]",
      "text/plain": [
       "<Figure size 432x288 with 1 Axes>"
      ]
     },
     "metadata": {
      "needs_background": "light"
     },
     "output_type": "display_data"
    }
   ],
   "source": [
    "sns.barplot(x=df.popularity,y=df.price,palette='coolwarm') # see average price in each group\n",
    "plt.title('Price');"
   ]
  },
  {
   "cell_type": "markdown",
   "metadata": {},
   "source": [
    "Interestingly, we can see a clear pattern here that people like to rent house/apt with low price.\n",
    "\n",
    "Then how about availability?"
   ]
  },
  {
   "cell_type": "code",
   "execution_count": 28,
   "metadata": {
    "scrolled": true
   },
   "outputs": [
    {
     "data": {
      "image/png": "[encoded data removed]",
      "text/plain": [
       "<Figure size 432x288 with 1 Axes>"
      ]
     },
     "metadata": {
      "needs_background": "light"
     },
     "output_type": "display_data"
    }
   ],
   "source": [
    "sns.barplot(x=df.popularity,y=df.availability_30,palette='coolwarm') # see 30 day availability in each group\n",
    "plt.title('Availability 30 days');"
   ]
  },
  {
   "cell_type": "markdown",
   "metadata": {},
   "source": [
    "Of course, not all properties are available for entire month for rent because some people only rent their house/apt when they are not around. And it makes sense that these type of properties received less reviews because they had less guests/visits. Thus, it is hard to know for what reason the properties were not available (could be already rent out or just not available), but there is a slight trend that they are more popular if they have greater availability.\n",
    "\n",
    "Next, we assumed that most listings on airbnb website generally received good ratings regardless of their popularity. But is it really that case?"
   ]
  },
  {
   "cell_type": "code",
   "execution_count": 84,
   "metadata": {},
   "outputs": [
    {
     "data": {
      "image/png": "[encoded data removed]",
      "text/plain": [
       "<Figure size 432x288 with 1 Axes>"
      ]
     },
     "metadata": {
      "needs_background": "light"
     },
     "output_type": "display_data"
    }
   ],
   "source": [
    "sns.barplot(x=df.popularity,y=df.review_scores_rating,palette='coolwarm') # see average rating in each group\n",
    "plt.title('Review scores');"
   ]
  },
  {
   "cell_type": "markdown",
   "metadata": {},
   "source": [
    "Yes, it is!!! So hosts, please keep in mind that number of reviews is more important than scores, so try your best to increase the number of reviews and convince every visitor to leave a review after their stay!\n",
    "\n",
    "However, there is a trap in this review system. You'll make a huge mistake if you think rating is not important! Hosts have been complaining about the airbnb rating system. Here's an example.  https://community.withairbnb.com/t5/Host-Voice/Agreed-Airbnb-s-rating-system-kinda-sucks/idi-p/573267\n",
    "\n",
    "Basically, because everyone's rating is so high, just one bad rating and review (especially when you don't have a lot of reviews yet) can dramatically change the 'level' of your property and therefore airbnb will probably give you warning for 'low' scores that indeed is not a bad score at all. Thus I personally think that number of reviews and rating are equally important for hosts.\n",
    "\n",
    "Next, let's explore some features that are not on the top 5 list."
   ]
  },
  {
   "cell_type": "code",
   "execution_count": 57,
   "metadata": {},
   "outputs": [
    {
     "data": {
      "image/png": "[encoded data removed]",
      "text/plain": [
       "<Figure size 432x288 with 1 Axes>"
      ]
     },
     "metadata": {
      "needs_background": "light"
     },
     "output_type": "display_data"
    }
   ],
   "source": [
    "sns.countplot(df['room_type'],palette='coolwarm') # see what type of room people prefer\n",
    "plt.title('Room type counts');"
   ]
  },
  {
   "cell_type": "code",
   "execution_count": 29,
   "metadata": {},
   "outputs": [
    {
     "data": {
      "image/png": "[encoded data removed]",
      "text/plain": [
       "<Figure size 720x432 with 1 Axes>"
      ]
     },
     "metadata": {
      "needs_background": "light"
     },
     "output_type": "display_data"
    }
   ],
   "source": [
    "plt.figure(figsize=(10,6))\n",
    "sns.barplot(df.room_type,df.price,hue=df.popularity, palette='coolwarm')\n",
    "plt.title('Popularity based on price');"
   ]
  },
  {
   "cell_type": "markdown",
   "metadata": {},
   "source": [
    "From these two graphs, we can see that most of the listings are entire home or apartment. Interestingly, from the \n",
    "second graph left panel we can see that low-price entire home/apt are most popular and high-price entire home/apt are \n",
    "least popular. This indicates that most people prefer cheap but private place. "
   ]
  },
  {
   "cell_type": "code",
   "execution_count": 65,
   "metadata": {},
   "outputs": [
    {
     "data": {
      "image/png": "[encoded data removed]",
      "text/plain": [
       "<Figure size 432x288 with 1 Axes>"
      ]
     },
     "metadata": {
      "needs_background": "light"
     },
     "output_type": "display_data"
    }
   ],
   "source": [
    "sns.countplot(df.popularity,hue=df.instant_bookable,palette='Set2')\n",
    "plt.title('Is the house/apt instantly bookable?')\n",
    "plt.legend(['No','Yes']);"
   ]
  },
  {
   "cell_type": "code",
   "execution_count": 18,
   "metadata": {},
   "outputs": [
    {
     "data": {
      "image/png": "[encoded data removed]",
      "text/plain": [
       "<Figure size 720x432 with 1 Axes>"
      ]
     },
     "metadata": {
      "needs_background": "light"
     },
     "output_type": "display_data"
    }
   ],
   "source": [
    "plt.figure(figsize=(10,6))\n",
    "sns.countplot(df.popularity,hue=df.cancellation_policy,palette='Set2',\n",
    "              hue_order=['flexible','moderate','strict'])\n",
    "plt.title('Cancellation policy');"
   ]
  },
  {
   "cell_type": "markdown",
   "metadata": {},
   "source": [
    "Instant booking and cancellation policies were also examined. The properties with high popularity are open to\n",
    "instant bookings more than other properties, and their cancellation polity is moderate."
   ]
  },
  {
   "cell_type": "code",
   "execution_count": 66,
   "metadata": {},
   "outputs": [
    {
     "data": {
      "image/png": "[encoded data removed]",
      "text/plain": [
       "<Figure size 432x288 with 1 Axes>"
      ]
     },
     "metadata": {
      "needs_background": "light"
     },
     "output_type": "display_data"
    }
   ],
   "source": [
    "sns.barplot(df.popularity,df.host_response_rate,palette='Set2')\n",
    "plt.title('Host response rate')\n",
    "plt.ylabel('Response rate');"
   ]
  },
  {
   "cell_type": "code",
   "execution_count": 19,
   "metadata": {},
   "outputs": [
    {
     "data": {
      "image/png": "[encoded data removed]",
      "text/plain": [
       "<Figure size 792x360 with 1 Axes>"
      ]
     },
     "metadata": {
      "needs_background": "light"
     },
     "output_type": "display_data"
    }
   ],
   "source": [
    "plt.figure(figsize=(11,5))\n",
    "sns.countplot(df.popularity, hue=df.host_response_time,\n",
    "              order=['high','medium','low'],\n",
    "              hue_order=['within an hour','within a few hours','within a day','a few days or more'],\n",
    "              palette='Set2')\n",
    "plt.title('Host response time');"
   ]
  },
  {
   "cell_type": "markdown",
   "metadata": {},
   "source": [
    "Properties in popularity groups tend to show similar response rate but slightly different response time. Most of the\n",
    "hosts do indeed respond within an hour of the inquiry, but the popular properties are more likely to do so than other\n",
    "properties.\n",
    "\n",
    "Finally, let's look at some popular amenities provided in the properties."
   ]
  },
  {
   "cell_type": "code",
   "execution_count": 30,
   "metadata": {
    "scrolled": true
   },
   "outputs": [
    {
     "data": {
      "text/plain": [
       "'{TV,\"Cable TV\",Internet,\"Wireless Internet\",\"Air Conditioning\",Kitchen,Heating,\"Family/Kid Friendly\",Washer,Dryer}'"
      ]
     },
     "execution_count": 30,
     "metadata": {},
     "output_type": "execute_result"
    }
   ],
   "source": [
    "df.amenities[0]"
   ]
  },
  {
   "cell_type": "code",
   "execution_count": 31,
   "metadata": {},
   "outputs": [
    {
     "data": {
      "text/html": [
       "<div>\n",
       "<style scoped>\n",
       "    .dataframe tbody tr th:only-of-type {\n",
       "        vertical-align: middle;\n",
       "    }\n",
       "\n",
       "    .dataframe tbody tr th {\n",
       "        vertical-align: top;\n",
       "    }\n",
       "\n",
       "    .dataframe thead th {\n",
       "        text-align: right;\n",
       "    }\n",
       "</style>\n",
       "<table border=\"1\" class=\"dataframe\">\n",
       "  <thead>\n",
       "    <tr style=\"text-align: right;\">\n",
       "      <th></th>\n",
       "      <th>0</th>\n",
       "    </tr>\n",
       "  </thead>\n",
       "  <tbody>\n",
       "    <tr>\n",
       "      <th>Wireless Internet</th>\n",
       "      <td>3667</td>\n",
       "    </tr>\n",
       "    <tr>\n",
       "      <th>Heating</th>\n",
       "      <td>3627</td>\n",
       "    </tr>\n",
       "    <tr>\n",
       "      <th>Kitchen</th>\n",
       "      <td>3423</td>\n",
       "    </tr>\n",
       "    <tr>\n",
       "      <th>Smoke Detector</th>\n",
       "      <td>3281</td>\n",
       "    </tr>\n",
       "    <tr>\n",
       "      <th>Essentials</th>\n",
       "      <td>3237</td>\n",
       "    </tr>\n",
       "    <tr>\n",
       "      <th>Dryer</th>\n",
       "      <td>2997</td>\n",
       "    </tr>\n",
       "    <tr>\n",
       "      <th>Washer</th>\n",
       "      <td>2992</td>\n",
       "    </tr>\n",
       "    <tr>\n",
       "      <th>Internet</th>\n",
       "      <td>2811</td>\n",
       "    </tr>\n",
       "    <tr>\n",
       "      <th>Shampoo</th>\n",
       "      <td>2670</td>\n",
       "    </tr>\n",
       "    <tr>\n",
       "      <th>TV</th>\n",
       "      <td>2574</td>\n",
       "    </tr>\n",
       "    <tr>\n",
       "      <th>Carbon Monoxide Detector</th>\n",
       "      <td>2485</td>\n",
       "    </tr>\n",
       "    <tr>\n",
       "      <th>Fire Extinguisher</th>\n",
       "      <td>2196</td>\n",
       "    </tr>\n",
       "    <tr>\n",
       "      <th>Free Parking on Premises</th>\n",
       "      <td>2167</td>\n",
       "    </tr>\n",
       "    <tr>\n",
       "      <th>Family/Kid Friendly</th>\n",
       "      <td>1963</td>\n",
       "    </tr>\n",
       "    <tr>\n",
       "      <th>First Aid Kit</th>\n",
       "      <td>1680</td>\n",
       "    </tr>\n",
       "  </tbody>\n",
       "</table>\n",
       "</div>"
      ],
      "text/plain": [
       "                             0\n",
       "Wireless Internet         3667\n",
       "Heating                   3627\n",
       "Kitchen                   3423\n",
       "Smoke Detector            3281\n",
       "Essentials                3237\n",
       "Dryer                     2997\n",
       "Washer                    2992\n",
       "Internet                  2811\n",
       "Shampoo                   2670\n",
       "TV                        2574\n",
       "Carbon Monoxide Detector  2485\n",
       "Fire Extinguisher         2196\n",
       "Free Parking on Premises  2167\n",
       "Family/Kid Friendly       1963\n",
       "First Aid Kit             1680"
      ]
     },
     "execution_count": 31,
     "metadata": {},
     "output_type": "execute_result"
    }
   ],
   "source": [
    "# see most popular amenities\n",
    "\n",
    "df.amenities = df.amenities.apply(lambda x: x if x is np.NAN else x[1:-1].replace('\"','').split(','))\n",
    "\n",
    "from collections import Counter\n",
    "df.ame_counts = df.amenities.apply(lambda x: Counter(x))\n",
    "\n",
    "items = Counter()\n",
    "for item in df.ame_counts:\n",
    "    items = items + item\n",
    "    \n",
    "pd.DataFrame.from_dict(items, orient='index').sort_values(0,ascending=False)[:15]"
   ]
  },
  {
   "cell_type": "markdown",
   "metadata": {},
   "source": [
    "The top 15 popular amaneties are listed above. Some are really basic, such as internet and smoke detector, while some\n",
    "are not easily seen in a regular hotel, for example the first aid kit."
   ]
  },
  {
   "cell_type": "markdown",
   "metadata": {},
   "source": [
    "In summary, in this notebook, I tried to analyze what makes an airbnb property popular than others. Like I mentioned\n",
    "earlier, the sales would have been the best measure in the analysis; but unfortunately, there is no easy and \n",
    "straitforward way to calculate the sales from given dataset (I might be wrong, correct me if there is a way to do so).\n",
    "Therefore, I used the number of reviews each month to see what differs the popular properties from others. \n",
    "\n",
    "I first examined important features using feature importance analysis in random forest regressor, and used some graphs\n",
    "to visualize these features. Then I also looked at some other features that might be helpful for future improvement for\n",
    "the hosts. \n",
    "\n",
    "This analysis primarily focuses on features that can be improved/upgraded by the hosts, and this is why I did not \n",
    "include analysis about the neigbourhood etc. You can't just move to a popular neigbourbood because it's popular, right?\n",
    "\n",
    "Finally, I am a data enthusiast who just started to learn ds skills and coding, so any feedback is greatly appreciated!"
   ]
  },
  {
   "cell_type": "code",
   "execution_count": null,
   "metadata": {},
   "outputs": [],
   "source": []
  }
 ],
 "metadata": {
  "kernelspec": {
   "display_name": "Python 3",
   "language": "python",
   "name": "python3"
  },
  "language_info": {
   "codemirror_mode": {
    "name": "ipython",
    "version": 3
   },
   "file_extension": ".py",
   "mimetype": "text/x-python",
   "name": "python",
   "nbconvert_exporter": "python",
   "pygments_lexer": "ipython3",
   "version": "3.7.0"
  }
 },
 "nbformat": 4,
 "nbformat_minor": 2
}
